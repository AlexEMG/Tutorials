{
 "cells": [
  {
   "cell_type": "code",
   "execution_count": null,
   "metadata": {},
   "outputs": [],
   "source": [
    "import matplotlib.pyplot as plt\n",
    "import numpy as np\n",
    "\n",
    "# Load data on Average brain and body weights for 27 species of land animals.\n",
    "# Source: http://mste.illinois.edu/malcz/DATA/BIOLOGY/Animals.html\n",
    "\n",
    "bodyweight=[1.35, 465, 36.33, 27.66, 1.04, 11700, 2547, 187.1, 521, 10, 3.3, 529, 207, 62, 6654, 9400, 6.8, 35, 0.12, 0.023, 2.5, 55.5, 100, 52.16, 87000, 0.122, 192]\n",
    "brainweight=[465, 423, 119.5, 115, 5.5, 50, 4603, 419, 655, 115, 25.6, 680, 406, 1320, 5712, 70, 179, 56, 1, 0.4, 12.1, 175, 157, 440, 154.5, 3, 180]\n",
    "animalname=[u'Mountain beaver', u'Cow', u'Grey wolf', u'Goat', u'Guinea pig', u'Dipliodocus', u'Asian elephant', u'Donkey', u'Horse', u'Potar monkey', u'Cat', u'Giraffe', u'Gorilla', u'Human', u'African elephant', u'Triceratops', u'Rhesus monkey', u'Kangaroo', u'Golden hamster', u'Mouse', u'Rabbit', u'Sheep', u'Jaguar', u'Chimpanzee', u'Brachiosaurus', u'Mole', u'Pig']\n"
   ]
  },
  {
   "cell_type": "code",
   "execution_count": null,
   "metadata": {},
   "outputs": [],
   "source": [
    "# Plotting body weight vs. brain weight...\n",
    "plt.plot(bodyweight,brainweight,'.',ms=10);"
   ]
  },
  {
   "cell_type": "code",
   "execution_count": null,
   "metadata": {},
   "outputs": [],
   "source": [
    "#Plotting with logarithmic axes:\n",
    "plt.loglog(bodyweight,brainweight,'.',ms=10);\n",
    "plt.xlabel('Body weight in kg',fontsize=14);\n",
    "plt.ylabel('Brain weight in g',fontsize=14);"
   ]
  },
  {
   "cell_type": "code",
   "execution_count": null,
   "metadata": {},
   "outputs": [],
   "source": [
    "# Let's employ a robust linear regression [line fitting] approach \n",
    "from sklearn import linear_model\n",
    "\n",
    "X,y=np.log10(bodyweight),np.log10(brainweight)\n",
    "X.shape=-1,1\n",
    "                              \n",
    "# Fit line using all data\n",
    "lr = linear_model.LinearRegression()\n",
    "lr.fit(X,y)\n",
    "       \n",
    "# Robustly fit linear model with RANSAC algorithm\n",
    "ransac = linear_model.RANSACRegressor(residual_threshold=0.6)\n",
    "ransac.fit(X,y)\n",
    "inlier = ransac.inlier_mask_\n",
    "outlier = np.logical_not(inlier)\n",
    "\n",
    "# Predict data for the estimated models\n",
    "line_X = np.arange(X.min(), X.max())[:, np.newaxis]\n",
    "line_y = lr.predict(line_X)\n",
    "line_y_ransac = ransac.predict(line_X)\n",
    "\n",
    "plt.figure(figsize=(10,10))      \n",
    "plt.plot(X[inlier], y[inlier],'.',color='black',label='Inliers',ms=10)\n",
    "plt.plot(X[outlier], y[outlier],'.', color='red',label='Outliers',ms=10) \n",
    "\n",
    "plt.plot(line_X, line_y, color='blue', linewidth=3, label='Regression')\n",
    "plt.plot(line_X, line_y_ransac, color='navy', linewidth=3,label='Robust regression')\n",
    "\n",
    "plt.legend(loc='lower right')\n",
    "plt.xlabel('Logarithm of Body weight in kg',fontsize=14)\n",
    "plt.ylabel('Logarithm of Brain weight in g',fontsize=14)\n",
    "plt.show()"
   ]
  },
  {
   "cell_type": "code",
   "execution_count": null,
   "metadata": {},
   "outputs": [],
   "source": [
    "#plot the names of the animals instead of dots. \n",
    "plt.figure(figsize=(10,10))        \n",
    "plt.xlabel('Logarithm of Body weight in kg',fontsize=20)\n",
    "plt.ylabel('Logarithm of Brain weight in g',fontsize=20)\n",
    "\n",
    "\n",
    "for jj,ann in enumerate(animalname):\n",
    "  if outlier[jj]==True:\n",
    "    plt.text(X[jj],y[jj],ann,color='gold',horizontalalignment='center',verticalalignment='center',fontsize=15)\n",
    "  else:\n",
    "    plt.text(X[jj],y[jj],ann,color='yellowgreen',horizontalalignment='center',verticalalignment='center',fontsize=15)\n",
    "\n",
    "plt.xlim(-2,6)\n",
    "plt.ylim(-2,6)\n",
    "\n",
    "plt.savefig('BrainvsBodysize.png')    \n",
    "plt.plot(line_X, line_y_ransac, color='navy', linewidth=3,label='Robust regression')\n",
    "\n",
    "plt.savefig('BrainvsBodysizeFIT.png')    \n",
    "plt.show()"
   ]
  },
  {
   "cell_type": "code",
   "execution_count": null,
   "metadata": {},
   "outputs": [],
   "source": [
    "# Loading and plotting some example data for my other demo (used in the slides)\n",
    "\n",
    "import numpy as np\n",
    "import matplotlib.pyplot as plt\n",
    "import tensorflow as tf\n",
    "mnist = tf.keras.datasets.mnist\n",
    "(x_train, y_train),(x_test, y_test) = mnist.load_data()\n",
    "x_train, x_test = x_train / 255.0, x_test / 255.0\n",
    "\n",
    "numsamples,nx,ny=np.shape(x_train)\n",
    "plt.imshow(x_train[5,:,:],cmap='gray')\n",
    "\n",
    "plt.figure(figsize=(10,10))\n",
    "for i in range(9):\n",
    "    plt.clf()\n",
    "    index=np.random.randint(numsamples)\n",
    "    plt.imshow(x_train[index,:,:],cmap='binary') \n",
    "    plt.yticks([])\n",
    "    plt.xticks([])\n",
    "    plt.axis('off')\n",
    "    plt.savefig('Mnist'+str(i)+'.png')"
   ]
  },
  {
   "cell_type": "code",
   "execution_count": null,
   "metadata": {},
   "outputs": [],
   "source": []
  }
 ],
 "metadata": {
  "kernelspec": {
   "display_name": "Python [conda env:DLCdependencies]",
   "language": "python",
   "name": "conda-env-DLCdependencies-py"
  },
  "language_info": {
   "codemirror_mode": {
    "name": "ipython",
    "version": 3
   },
   "file_extension": ".py",
   "mimetype": "text/x-python",
   "name": "python",
   "nbconvert_exporter": "python",
   "pygments_lexer": "ipython3",
   "version": "3.6.5"
  }
 },
 "nbformat": 4,
 "nbformat_minor": 2
}
